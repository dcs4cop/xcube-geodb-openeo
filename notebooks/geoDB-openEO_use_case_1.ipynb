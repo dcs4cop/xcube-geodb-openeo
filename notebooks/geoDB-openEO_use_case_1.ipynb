{
 "cells": [
  {
   "cell_type": "markdown",
   "metadata": {},
   "source": [
    "# Demonstration of basic geoDB capabilities + Use Case #1\n",
    "\n",
    "## Preparations\n",
    "First, some imports are done, and the base URL is set.\n",
    "The base URL is where the backend is running, and it will be used in all later examples."
   ]
  },
  {
   "cell_type": "code",
   "execution_count": null,
   "metadata": {},
   "outputs": [],
   "source": [
    "import urllib3\n",
    "import json\n",
    "\n",
    "http = urllib3.PoolManager()\n",
    "base_url = 'https://geodb.openeo.dev.brockmann-consult.de'"
   ]
  },
  {
   "cell_type": "markdown",
   "metadata": {},
   "source": [
    "Definition of a helper method that pretty prints the HTTP responses:"
   ]
  },
  {
   "cell_type": "code",
   "execution_count": null,
   "metadata": {},
   "outputs": [],
   "source": [
    "def print_endpoint(url):\n",
    "    r = http.request('GET', url)\n",
    "    data = json.loads(r.data)\n",
    "    print(f\"Status: {r.status}\")\n",
    "    print(f\"Result: {json.dumps(data, indent=2)}\")"
   ]
  },
  {
   "cell_type": "markdown",
   "source": [
    "Print the general metadata:"
   ],
   "metadata": {
    "collapsed": false
   }
  },
  {
   "cell_type": "code",
   "execution_count": null,
   "metadata": {},
   "outputs": [],
   "source": [
    "print_endpoint(f'{base_url}/')"
   ]
  },
  {
   "cell_type": "markdown",
   "metadata": {},
   "source": [
    "Print the response of the well-known endpoint:"
   ]
  },
  {
   "cell_type": "code",
   "execution_count": null,
   "metadata": {},
   "outputs": [],
   "source": [
    "print_endpoint(f'{base_url}/.well-known/openeo')"
   ]
  },
  {
   "cell_type": "markdown",
   "metadata": {},
   "source": [
    "Show the file formats the geoDB-openEO-backend supports (currently empty):"
   ]
  },
  {
   "cell_type": "code",
   "execution_count": null,
   "metadata": {},
   "outputs": [],
   "source": [
    "print_endpoint(f'{base_url}/file_formats')"
   ]
  },
  {
   "cell_type": "markdown",
   "metadata": {},
   "source": [
    "Print the standards the geoDB-openEO-backend conforms to (TBC):"
   ]
  },
  {
   "cell_type": "code",
   "execution_count": null,
   "metadata": {},
   "outputs": [],
   "source": [
    "print_endpoint(f'{base_url}/conformance')"
   ]
  },
  {
   "cell_type": "markdown",
   "metadata": {},
   "source": [
    "## Collections listing - STAC part\n",
    "List the collections currently available using the geoDB-openEO-backend:"
   ]
  },
  {
   "cell_type": "code",
   "execution_count": null,
   "metadata": {},
   "outputs": [],
   "source": [
    "print_endpoint(f'{base_url}/collections')"
   ]
  },
  {
   "cell_type": "markdown",
   "metadata": {},
   "source": [
    "List details of the `AT_2021_EC21` collection:"
   ]
  },
  {
   "cell_type": "code",
   "execution_count": null,
   "metadata": {},
   "outputs": [],
   "source": [
    "print_endpoint(f'{base_url}/collections/AT_2021_EC21')"
   ]
  },
  {
   "cell_type": "code",
   "execution_count": null,
   "outputs": [],
   "source": [
    "## Processes listing of the geoDB-openEO backend"
   ],
   "metadata": {
    "collapsed": false
   }
  },
  {
   "cell_type": "code",
   "execution_count": null,
   "metadata": {},
   "outputs": [],
   "source": [
    "print_endpoint(f'{base_url}/processes')"
   ]
  },
  {
   "cell_type": "markdown",
   "metadata": {},
   "source": [
    "## Use Case 1\n",
    "Run the function `load_collection`, and store the result in a local variable:"
   ]
  },
  {
   "cell_type": "code",
   "execution_count": null,
   "metadata": {},
   "outputs": [],
   "source": [
    "body = json.dumps({\"process\": {\n",
    "    \"id\": \"load_collection\",\n",
    "    \"parameters\": {\n",
    "        \"id\": \"populated_places_sub\",\n",
    "        \"spatial_extent\": {\n",
    "            \"bbox\": \"(33, -10, 71, 43)\"\n",
    "        }\n",
    "    }\n",
    "}})\n",
    "r = http.request('POST', f'{base_url}/result',\n",
    "                 headers={'Content-Type': 'application/json'},\n",
    "                 body=body)\n",
    "vector_cube = json.loads(r.data)\n",
    "vector_cube"
   ]
  },
  {
   "cell_type": "code",
   "execution_count": null,
   "metadata": {},
   "outputs": [],
   "source": [
    "vector_cube[20]"
   ]
  },
  {
   "cell_type": "markdown",
   "source": [
    "Note: as there is no final specification of the VectorCube datatype, a vector_cube in the geoDB-openEO backend is simply a Python dictionary. This is sufficient to support this use case, but in order to ensure interoperability with raster data, a more sophisticated concept will be needed."
   ],
   "metadata": {
    "collapsed": false
   }
  },
  {
   "cell_type": "markdown",
   "source": [
    "## Validating some collections responses using the (3rd party) STAC validator software\n",
    "Preparation:"
   ],
   "metadata": {
    "collapsed": false
   }
  },
  {
   "cell_type": "code",
   "execution_count": null,
   "metadata": {},
   "outputs": [],
   "source": [
    "from stac_validator import stac_validator\n",
    "import json"
   ]
  },
  {
   "cell_type": "markdown",
   "metadata": {},
   "source": [
    "Validate response for collection `AT_2021_EC21`:"
   ]
  },
  {
   "cell_type": "code",
   "execution_count": null,
   "metadata": {},
   "outputs": [],
   "source": [
    "stac = stac_validator.StacValidate(f'{base_url}/collections/AT_2021_EC21')\n",
    "stac.run()\n",
    "print(json.dumps(stac.message[0], indent=2))"
   ]
  },
  {
   "cell_type": "markdown",
   "metadata": {},
   "source": [
    "Validate response for collection `populated_places_sub`:"
   ]
  },
  {
   "cell_type": "code",
   "execution_count": null,
   "metadata": {},
   "outputs": [],
   "source": [
    "stac = stac_validator.StacValidate(f'{base_url}/collections/populated_places_sub')\n",
    "stac.run()\n",
    "print(json.dumps(stac.message[0], indent=2))"
   ]
  },
  {
   "cell_type": "code",
   "execution_count": null,
   "metadata": {},
   "outputs": [],
   "source": []
  }
 ],
 "metadata": {
  "kernelspec": {
   "display_name": "Python 3 (ipykernel)",
   "language": "python",
   "name": "python3"
  },
  "language_info": {
   "codemirror_mode": {
    "name": "ipython",
    "version": 3
   },
   "file_extension": ".py",
   "mimetype": "text/x-python",
   "name": "python",
   "nbconvert_exporter": "python",
   "pygments_lexer": "ipython3",
   "version": "3.9.12"
  }
 },
 "nbformat": 4,
 "nbformat_minor": 1
}
