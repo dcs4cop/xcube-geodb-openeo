{
 "cells": [
  {
   "cell_type": "markdown",
   "id": "ced119793a5f0f59",
   "metadata": {
    "collapsed": false
   },
   "source": [
    "# Demonstration of extended geoDB openEO backend capabilities + Use Case #2\n",
    "\n",
    "This notebook demonstrates how the extended capabilities of the geoDB openEO backend can be used in a real-world-like use case: data from a vector cube is (temporally) aggregated and used alongside with Sentinel-3 raster data. Apart from this main use case, additional capabilities of the geoDB openEO backend are shown.  \n",
    "\n",
    "### Preparations\n",
    "First, the openeo-client software is imported; it is used throughout the notebook to interact with the geoDB openEO backend. Then, the openeo client is used to open connections to the geoDB openEO backend and to the Copernicus Data Space Ecosystem backend, which provides the raster data used in this example."
   ]
  },
  {
   "cell_type": "code",
   "execution_count": 195,
   "id": "edcce2fdfc4a403a",
   "metadata": {
    "ExecuteTime": {
     "end_time": "2023-11-21T12:29:14.121770200Z",
     "start_time": "2023-11-21T12:29:09.707648900Z"
    }
   },
   "outputs": [
    {
     "name": "stdout",
     "output_type": "stream",
     "text": [
      "Authenticated using refresh token.\n"
     ]
    },
    {
     "data": {
      "text/plain": "<Connection to 'https://openeo.dataspace.copernicus.eu/openeo/1.2/' with OidcBearerAuth>"
     },
     "execution_count": 195,
     "metadata": {},
     "output_type": "execute_result"
    }
   ],
   "source": [
    "import openeo\n",
    "\n",
    "geodb_url = 'https://geodb.openeo.dev.brockmann-consult.de'\n",
    "geodb = openeo.connect(geodb_url)\n",
    "\n",
    "cdse_url = 'https://openeo.dataspace.copernicus.eu/'\n",
    "cdse = openeo.connect(cdse_url)\n",
    "cdse.authenticate_oidc()"
   ]
  },
  {
   "cell_type": "markdown",
   "source": [
    "### Load and aggregate vector data\n",
    "\n",
    "The following three lines demonstrate the aggregation capabilities of the geoDB openEO backend. Note that the whole process only starts as soon as the processing is triggered by the `download` command. First, the server is notified that the collection shall be loaded. In the second step, the collection is temporally aggregated. The three parameters of the `aggregate_temporal`- function are:\n",
    "1) `temporal intervals` (`[['2000-01-01', '2030-01-05']]`): all data that falls in these intervals are aggregated.\n",
    "2) `reducer` (`mean`): a 'reducer' function which aggregates the collected temporal data, i.e. computes a single value from a set of input values. Typical functions are `mean`, `median`, `std`, ...\n",
    "3) `context` (`{'pattern': '%Y-%M-%d'}`): any context; used here exemplarily to provide the date pattern  \n",
    "\n",
    "The collection is an artificial collection made for demo purposes. It is a cube of 8 features, containing population info for 4 different points in time, for two geometries (more or less Western and Eastern Hamburg):\n",
    "\n",
    "![openeo_pop_hamburg](images/openeo_pop_hamburg.png)\n"
   ],
   "metadata": {
    "collapsed": false
   },
   "id": "28a0857a424ccb9f"
  },
  {
   "cell_type": "code",
   "execution_count": 197,
   "id": "7903b501d68f258c",
   "metadata": {
    "collapsed": false,
    "ExecuteTime": {
     "end_time": "2023-11-21T12:30:01.039006100Z",
     "start_time": "2023-11-21T12:29:57.851719100Z"
    }
   },
   "outputs": [
    {
     "name": "stderr",
     "output_type": "stream",
     "text": [
      "C:\\Users\\Thomas\\micromamba\\envs\\xcube-geodb-openeo\\lib\\site-packages\\openeo\\metadata.py:272: UserWarning: Unknown dimension type 'geometry'\n",
      "  complain(\"Unknown dimension type {t!r}\".format(t=dim_type))\n"
     ]
    }
   ],
   "source": [
    "hamburg = geodb.load_collection('openeo~pop_hamburg')\n",
    "hamburg = hamburg.aggregate_temporal([['2000-01-01', '2030-01-05']], 'mean', context={'pattern': '%Y-%M-%d'})\n",
    "hamburg.download('./hamburg_mean.json', 'GeoJSON')"
   ]
  },
  {
   "cell_type": "markdown",
   "source": [
    "### Prepare raster data\n",
    "\n",
    "Next, the CDSE openEO backend is used to load a small sample of OLCI L1 data. This data is used to compute the NDVI over the Hamburg area, temporally aggregating the first 5 days in 2020. This data will be used in conjunction with the vector data prepared above."
   ],
   "metadata": {
    "collapsed": false
   },
   "id": "792b5b8cdbb6178f"
  },
  {
   "cell_type": "code",
   "execution_count": 198,
   "id": "ab0edbcf-c37d-4ccf-b533-70d8877c9419",
   "metadata": {
    "ExecuteTime": {
     "end_time": "2023-11-21T12:30:04.400251400Z",
     "start_time": "2023-11-21T12:30:04.324929800Z"
    }
   },
   "outputs": [],
   "source": [
    "olci = cdse.load_collection(\"SENTINEL3_OLCI_L1B\",\n",
    "                            spatial_extent={\"west\": 9.7, \"south\": 53.3, \"east\": 10.3, \"north\": 53.8},\n",
    "                            temporal_extent=[\"2020-01-01\", \"2020-01-05\"],\n",
    "                            bands=[\"B08\", \"B17\"])\n",
    "\n",
    "olci_ndvi = olci.ndvi(nir=\"B17\", red=\"B08\")\n",
    "ndvi_temp_agg = olci_ndvi.aggregate_temporal([[\"2020-01-01T00:00:00.000Z\", \"2020-01-05T00:00:00.000Z\"]], 'median')"
   ]
  },
  {
   "cell_type": "markdown",
   "source": [
    "### Use the vector data for spatial aggregation of the raster data\n",
    "\n",
    "Now we use the vector data produced by the geoDB openEO backend to determine the geometries over which the NDVI data shall be extracted.\n",
    "As the job is pretty small, it will finish after a short while."
   ],
   "metadata": {
    "collapsed": false
   },
   "id": "947db26daf8b43ea"
  },
  {
   "cell_type": "code",
   "execution_count": 199,
   "id": "f056401a-65de-48bd-9f73-1915ea47b14f",
   "metadata": {
    "ExecuteTime": {
     "end_time": "2023-11-21T12:35:20.038996Z",
     "start_time": "2023-11-21T12:32:44.537780900Z"
    }
   },
   "outputs": [
    {
     "name": "stdout",
     "output_type": "stream",
     "text": [
      "0:00:00 Job 'j-231121366e30458cba494dc68f586106': send 'start'\n",
      "0:00:14 Job 'j-231121366e30458cba494dc68f586106': created (progress N/A)\n",
      "0:00:19 Job 'j-231121366e30458cba494dc68f586106': created (progress N/A)\n",
      "0:00:26 Job 'j-231121366e30458cba494dc68f586106': running (progress N/A)\n",
      "0:00:34 Job 'j-231121366e30458cba494dc68f586106': running (progress N/A)\n",
      "0:00:45 Job 'j-231121366e30458cba494dc68f586106': running (progress N/A)\n",
      "0:00:57 Job 'j-231121366e30458cba494dc68f586106': running (progress N/A)\n",
      "0:01:13 Job 'j-231121366e30458cba494dc68f586106': running (progress N/A)\n",
      "0:01:32 Job 'j-231121366e30458cba494dc68f586106': running (progress N/A)\n",
      "0:01:56 Job 'j-231121366e30458cba494dc68f586106': running (progress N/A)\n",
      "0:02:34 Job 'j-231121366e30458cba494dc68f586106': finished (progress N/A)\n"
     ]
    },
    {
     "data": {
      "text/plain": "<BatchJob job_id='j-231121366e30458cba494dc68f586106'>",
      "text/html": "\n    <script>\n    if (!window.customElements || !window.customElements.get('openeo-job')) {\n        var el = document.createElement('script');\n        el.src = \"https://cdn.jsdelivr.net/npm/@openeo/vue-components@2/assets/openeo.min.js\";\n        document.head.appendChild(el);\n\n        var font = document.createElement('font');\n        font.as = \"font\";\n        font.type = \"font/woff2\";\n        font.crossOrigin = true;\n        font.href = \"https://use.fontawesome.com/releases/v5.13.0/webfonts/fa-solid-900.woff2\"\n        document.head.appendChild(font);\n    }\n    </script>\n    <openeo-job>\n        <script type=\"application/json\">{\"currency\": \"credits\", \"job\": {\"costs\": 3.0, \"created\": \"2023-11-21T12:32:44Z\", \"id\": \"j-231121366e30458cba494dc68f586106\", \"process\": {\"process_graph\": {\"aggregatespatial1\": {\"arguments\": {\"data\": {\"from_node\": \"aggregatetemporal1\"}, \"geometries\": {\"features\": [{\"geometry\": {\"coordinates\": [[[9.786525, 53.602533], [9.989772, 53.686383], [9.998012, 53.400776], [9.892268, 53.461322], [9.873042, 53.511167], [9.743953, 53.532394], [9.786525, 53.602533]]], \"type\": \"Polygon\"}, \"properties\": {\"created_at\": \"2023-11-21 12:29:59.357323+00:00\", \"date\": \"2030-01-05 00:01:00+00:00\", \"modified_at\": null, \"population\": 700000.0}, \"type\": \"Feature\"}, {\"geometry\": {\"coordinates\": [[[9.993892, 53.690449], [10.002132, 53.399957], [10.033717, 53.46541], [10.033717, 53.48666], [10.039211, 53.51525], [10.236965, 53.450692], [10.188899, 53.496465], [10.212245, 53.511983], [10.139461, 53.538108], [10.169673, 53.572371], [10.188899, 53.66035], [10.136714, 53.703458], [10.006252, 53.686383], [9.993892, 53.690449]]], \"type\": \"Polygon\"}, \"properties\": {\"created_at\": \"2023-11-21 12:29:59.360173+00:00\", \"date\": \"2030-01-05 00:01:00+00:00\", \"modified_at\": null, \"population\": 650000.0}, \"type\": \"Feature\"}], \"type\": \"FeatureCollection\"}, \"reducer\": {\"process_graph\": {\"mean1\": {\"arguments\": {\"data\": {\"from_parameter\": \"data\"}}, \"process_id\": \"mean\", \"result\": true}}}}, \"process_id\": \"aggregate_spatial\"}, \"aggregatetemporal1\": {\"arguments\": {\"data\": {\"from_node\": \"ndvi1\"}, \"intervals\": [[\"2020-01-01T00:00:00.000Z\", \"2020-01-05T00:00:00.000Z\"]], \"reducer\": {\"process_graph\": {\"median1\": {\"arguments\": {\"data\": {\"from_parameter\": \"data\"}}, \"process_id\": \"median\", \"result\": true}}}}, \"process_id\": \"aggregate_temporal\"}, \"loadcollection1\": {\"arguments\": {\"bands\": [\"B08\", \"B17\"], \"id\": \"SENTINEL3_OLCI_L1B\", \"spatial_extent\": {\"east\": 10.3, \"north\": 53.8, \"south\": 53.3, \"west\": 9.7}, \"temporal_extent\": [\"2020-01-01\", \"2020-01-05\"]}, \"process_id\": \"load_collection\"}, \"ndvi1\": {\"arguments\": {\"data\": {\"from_node\": \"loadcollection1\"}, \"nir\": \"B17\", \"red\": \"B08\"}, \"process_id\": \"ndvi\"}, \"saveresult1\": {\"arguments\": {\"data\": {\"from_node\": \"aggregatespatial1\"}, \"format\": \"GTiff\", \"options\": {}}, \"process_id\": \"save_result\", \"result\": true}}}, \"status\": \"finished\", \"updated\": \"2023-11-21T12:32:44Z\", \"usage\": {\"cpu\": {\"unit\": \"cpu-seconds\", \"value\": 111.944790752}, \"duration\": {\"unit\": \"seconds\", \"value\": 108}, \"memory\": {\"unit\": \"mb-seconds\", \"value\": 214925.2734375}, \"network_received\": {\"unit\": \"b\", \"value\": 400717.0}, \"sentinelhub\": {\"unit\": \"sentinelhub_processing_unit\", \"value\": 2.6666667461395264}}}}</script>\n    </openeo-job>\n    "
     },
     "execution_count": 199,
     "metadata": {},
     "output_type": "execute_result"
    }
   ],
   "source": [
    "import json\n",
    "with open('./hamburg_mean.json') as f:\n",
    "    geometries = json.load(f)\n",
    "ndvi_final = ndvi_temp_agg.aggregate_spatial(geometries, openeo.processes.ProcessBuilder.mean)\n",
    "result = ndvi_final.save_result(format = \"GTiff\")\n",
    "job = result.create_job()\n",
    "job.start_and_wait()"
   ]
  },
  {
   "cell_type": "markdown",
   "source": [
    "### Download the NDVI data, and prepare for visualisation\n",
    "\n",
    "In this step, the NDVI data we just produced are downloaded. It is a very small JSON file that simply contains the aggregated NDVI values for all the geometries of the vector cube `openeo~hamburg`. There are two of those, so the JSON file contains only two values."
   ],
   "metadata": {
    "collapsed": false
   },
   "id": "388fbe29e48c671"
  },
  {
   "cell_type": "code",
   "execution_count": 200,
   "id": "1868c72e-cfb0-458b-82bf-a6e0b57e15d9",
   "metadata": {
    "ExecuteTime": {
     "end_time": "2023-11-21T12:35:55.233822700Z",
     "start_time": "2023-11-21T12:35:53.770154Z"
    }
   },
   "outputs": [],
   "source": [
    "result_file = job.get_results().download_files(\"output\")[0]\n",
    "with open(str(result_file)) as f:\n",
    "    aggregated_ndvi = json.load(f)\n",
    "ndvi = list([v[0] for v in aggregated_ndvi[list(aggregated_ndvi.keys())[0]]])"
   ]
  },
  {
   "cell_type": "markdown",
   "source": [
    "### Prepare the vector data for visualisation\n",
    "\n",
    "The vector data are openend as GeoDataFrame, which allows for visualisation. The NDVI data is added to the DataFrame, so the vector and (aggregated) raster data can be shown together.\n"
   ],
   "metadata": {
    "collapsed": false
   },
   "id": "27e94dedba9c05e6"
  },
  {
   "cell_type": "code",
   "execution_count": 201,
   "id": "f17b7277-2b4a-40d4-b982-f51a0b57915c",
   "metadata": {
    "ExecuteTime": {
     "end_time": "2023-11-21T12:36:14.012885700Z",
     "start_time": "2023-11-21T12:36:13.944682300Z"
    }
   },
   "outputs": [],
   "source": [
    "import geopandas\n",
    "gdf = geopandas.read_file('./hamburg_mean.json')\n",
    "gdf['ndvi'] = ndvi"
   ]
  },
  {
   "cell_type": "markdown",
   "source": [
    "### Visualise\n",
    "\n",
    "Finally, we draw the geometries on a map. The aggregated 'population' information that we have extracted from the geoDB openEO backend are displayed in an overlay. The colors represent the NDVI values we received from the CDSE openEO backend. \n"
   ],
   "metadata": {
    "collapsed": false
   },
   "id": "80f7404cfcf93fe"
  },
  {
   "cell_type": "code",
   "execution_count": 208,
   "id": "2316d61c-261c-41af-8de6-a5aa30367d0b",
   "metadata": {
    "scrolled": true,
    "ExecuteTime": {
     "end_time": "2023-11-21T12:46:36.319701800Z",
     "start_time": "2023-11-21T12:46:35.884355700Z"
    }
   },
   "outputs": [
    {
     "data": {
      "text/plain": "<Figure size 640x480 with 1 Axes>",
      "image/png": "[encoded data removed]"
     },
     "metadata": {},
     "output_type": "display_data"
    }
   ],
   "source": [
    "import matplotlib.pyplot as plt\n",
    "gdf['color'] = ['#006400', '#90EE90']\n",
    "gdf.plot(legend=True, color=gdf['color'])\n",
    "va = ['bottom', 'top']\n",
    "for idx, row in gdf.iterrows():\n",
    "    coords = {0: (9.75, 53.65),\n",
    "              1: (10.03, 53.5)}\n",
    "    plt.annotate('average population 2000-2020:\\n' + str(int((row['population']))), xy=coords[idx],\n",
    "                 horizontalalignment='left', verticalalignment='top', backgroundcolor='b')\n",
    "for idx, row in gdf.iterrows():\n",
    "    coords = {0: (9.75, 53.585),\n",
    "              1: (10.03, 53.435)}\n",
    "    plt.annotate('average ndvi early 2020:\\n' + f'{row[\"ndvi\"]:.4f}', xy=coords[idx],\n",
    "                 horizontalalignment='left', verticalalignment='bottom', backgroundcolor='b') "
   ]
  },
  {
   "cell_type": "markdown",
   "source": [
    "### Math\n",
    "\n",
    "We can also do simple math on vector cubes provided by the geoDB openEO backend. In the following code, we define two functions (`apply_scaling`and `add_offset`), and apply those functions to the vector cube. We download the results and inspect the datacube. Only those data to which the functions can be applied to are scaled: `population` has been scaled, but `id`, `geometry`, and `date` are left untouched.\n"
   ],
   "metadata": {
    "collapsed": false
   },
   "id": "8f2bdc321f91ac9e"
  },
  {
   "cell_type": "code",
   "execution_count": 212,
   "outputs": [
    {
     "name": "stderr",
     "output_type": "stream",
     "text": [
      "C:\\Users\\Thomas\\micromamba\\envs\\xcube-geodb-openeo\\lib\\site-packages\\openeo\\metadata.py:272: UserWarning: Unknown dimension type 'geometry'\n",
      "  complain(\"Unknown dimension type {t!r}\".format(t=dim_type))\n"
     ]
    },
    {
     "data": {
      "text/plain": "  id                                           geometry  population  \\\n0  1  POLYGON ((9.78652 53.60253, 9.98977 53.68638, ...         0.2   \n1  2  POLYGON ((9.78652 53.60253, 9.98977 53.68638, ...         0.4   \n2  3  POLYGON ((9.78652 53.60253, 9.98977 53.68638, ...         0.5   \n3  4  POLYGON ((9.78652 53.60253, 9.98977 53.68638, ...         0.9   \n4  5  POLYGON ((9.99389 53.69045, 10.00213 53.39996,...         0.4   \n5  6  POLYGON ((9.99389 53.69045, 10.00213 53.39996,...         0.9   \n6  7  POLYGON ((9.99389 53.69045, 10.00213 53.39996,...         0.5   \n7  8  POLYGON ((9.99389 53.69045, 10.00213 53.39996,...         0.8   \n\n                       date  \n0 1990-01-01 00:00:00+00:00  \n1 2000-01-01 00:00:00+00:00  \n2 2010-01-01 00:00:00+00:00  \n3 2020-01-01 00:00:00+00:00  \n4 1990-01-01 00:00:00+00:00  \n5 2000-01-01 00:00:00+00:00  \n6 2010-01-01 00:00:00+00:00  \n7 2020-01-01 00:00:00+00:00  ",
      "text/html": "<div>\n<style scoped>\n    .dataframe tbody tr th:only-of-type {\n        vertical-align: middle;\n    }\n\n    .dataframe tbody tr th {\n        vertical-align: top;\n    }\n\n    .dataframe thead th {\n        text-align: right;\n    }\n</style>\n<table border=\"1\" class=\"dataframe\">\n  <thead>\n    <tr style=\"text-align: right;\">\n      <th></th>\n      <th>id</th>\n      <th>geometry</th>\n      <th>population</th>\n      <th>date</th>\n    </tr>\n  </thead>\n  <tbody>\n    <tr>\n      <th>0</th>\n      <td>1</td>\n      <td>POLYGON ((9.78652 53.60253, 9.98977 53.68638, ...</td>\n      <td>0.2</td>\n      <td>1990-01-01 00:00:00+00:00</td>\n    </tr>\n    <tr>\n      <th>1</th>\n      <td>2</td>\n      <td>POLYGON ((9.78652 53.60253, 9.98977 53.68638, ...</td>\n      <td>0.4</td>\n      <td>2000-01-01 00:00:00+00:00</td>\n    </tr>\n    <tr>\n      <th>2</th>\n      <td>3</td>\n      <td>POLYGON ((9.78652 53.60253, 9.98977 53.68638, ...</td>\n      <td>0.5</td>\n      <td>2010-01-01 00:00:00+00:00</td>\n    </tr>\n    <tr>\n      <th>3</th>\n      <td>4</td>\n      <td>POLYGON ((9.78652 53.60253, 9.98977 53.68638, ...</td>\n      <td>0.9</td>\n      <td>2020-01-01 00:00:00+00:00</td>\n    </tr>\n    <tr>\n      <th>4</th>\n      <td>5</td>\n      <td>POLYGON ((9.99389 53.69045, 10.00213 53.39996,...</td>\n      <td>0.4</td>\n      <td>1990-01-01 00:00:00+00:00</td>\n    </tr>\n    <tr>\n      <th>5</th>\n      <td>6</td>\n      <td>POLYGON ((9.99389 53.69045, 10.00213 53.39996,...</td>\n      <td>0.9</td>\n      <td>2000-01-01 00:00:00+00:00</td>\n    </tr>\n    <tr>\n      <th>6</th>\n      <td>7</td>\n      <td>POLYGON ((9.99389 53.69045, 10.00213 53.39996,...</td>\n      <td>0.5</td>\n      <td>2010-01-01 00:00:00+00:00</td>\n    </tr>\n    <tr>\n      <th>7</th>\n      <td>8</td>\n      <td>POLYGON ((9.99389 53.69045, 10.00213 53.39996,...</td>\n      <td>0.8</td>\n      <td>2020-01-01 00:00:00+00:00</td>\n    </tr>\n  </tbody>\n</table>\n</div>"
     },
     "execution_count": 212,
     "metadata": {},
     "output_type": "execute_result"
    }
   ],
   "source": [
    "def apply_scaling(x: float) -> float:\n",
    "    return x * 0.000001\n",
    "\n",
    "def add_offset(x):\n",
    "    return x + 1.2345\n",
    "\n",
    "hamburg_scale = geodb.load_collection('openeo~pop_hamburg')\n",
    "hamburg_scale = hamburg_scale.apply(lambda x: apply_scaling(x))\n",
    "hamburg_scale.download('./hamburg_scaled.json', 'GeoJSON')\n",
    "\n",
    "gdf = geopandas.read_file('./hamburg_scaled.json')\n",
    "gdf[['id', 'geometry', 'population', 'date']]"
   ],
   "metadata": {
    "collapsed": false,
    "ExecuteTime": {
     "end_time": "2023-11-21T12:54:31.080321700Z",
     "start_time": "2023-11-21T12:54:27.851159Z"
    }
   },
   "id": "df0c0de2f826109a"
  }
 ],
 "metadata": {
  "kernelspec": {
   "display_name": "Python 3 (ipykernel)",
   "language": "python",
   "name": "python3"
  },
  "language_info": {
   "codemirror_mode": {
    "name": "ipython",
    "version": 3
   },
   "file_extension": ".py",
   "mimetype": "text/x-python",
   "name": "python",
   "nbconvert_exporter": "python",
   "pygments_lexer": "ipython3",
   "version": "3.9.16"
  }
 },
 "nbformat": 4,
 "nbformat_minor": 5
}
