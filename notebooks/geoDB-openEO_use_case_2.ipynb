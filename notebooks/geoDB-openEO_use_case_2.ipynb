{
 "cells": [
  {
   "cell_type": "markdown",
   "id": "ced119793a5f0f59",
   "metadata": {
    "collapsed": false,
    "jupyter": {
     "outputs_hidden": false
    }
   },
   "source": [
    "# Demonstration of basic geoDB capabilities + Use Case #2\n",
    "\n",
    "## Preparations\n",
    "First, some imports are done, and the base URL is set.\n",
    "The base URL is where the backend is running, and it will be used in all later examples."
   ]
  },
  {
   "cell_type": "code",
   "execution_count": 9,
   "id": "edcce2fdfc4a403a",
   "metadata": {
    "ExecuteTime": {
     "end_time": "2023-11-17T22:49:06.144387900Z",
     "start_time": "2023-11-17T22:49:03.556900900Z"
    }
   },
   "outputs": [
    {
     "name": "stdout",
     "output_type": "stream",
     "text": [
      "Authenticated using refresh token.\n"
     ]
    },
    {
     "data": {
      "text/plain": [
       "<Connection to 'https://openeo.dataspace.copernicus.eu/openeo/1.1/' with OidcBearerAuth>"
      ]
     },
     "execution_count": 9,
     "metadata": {},
     "output_type": "execute_result"
    }
   ],
   "source": [
    "import datetime\n",
    "import json\n",
    "\n",
    "import openeo\n",
    "\n",
    "# geoDB = 'https://geodb.openeo.dev.brockmann-consult.de'\n",
    "geoDB = 'http://localhost:8080'\n",
    "cdse = openeo.connect(\"https://openeo.dataspace.copernicus.eu/\")\n",
    "cdse.authenticate_oidc()"
   ]
  },
  {
   "cell_type": "code",
   "execution_count": 11,
   "id": "7903b501d68f258c",
   "metadata": {
    "ExecuteTime": {
     "end_time": "2023-11-17T22:46:22.915782300Z",
     "start_time": "2023-11-17T22:46:10.264252800Z"
    },
    "collapsed": false,
    "jupyter": {
     "outputs_hidden": false
    }
   },
   "outputs": [
    {
     "name": "stderr",
     "output_type": "stream",
     "text": [
      "C:\\Users\\Thomas\\micromamba\\envs\\xcube-geodb-openeo\\lib\\site-packages\\openeo\\metadata.py:272: UserWarning: Unknown dimension type 'geometry'\n",
      "  complain(\"Unknown dimension type {t!r}\".format(t=dim_type))\n"
     ]
    }
   ],
   "source": [
    "geoDB = 'http://localhost:8080'\n",
    "connection = openeo.connect(geoDB)\n",
    "hamburg = connection.load_collection('openeo~pop_hamburg')\n",
    "hamburg = hamburg.aggregate_temporal(['2000-01-01', '2030-01-05'], 'mean', context={'pattern': '%Y-%M-%d'})\n",
    "hamburg.download('./hamburg_agg.json', 'GeoJSON')"
   ]
  },
  {
   "cell_type": "code",
   "execution_count": 12,
   "id": "ab0edbcf-c37d-4ccf-b533-70d8877c9419",
   "metadata": {
    "ExecuteTime": {
     "end_time": "2023-11-17T22:49:11.017124800Z",
     "start_time": "2023-11-17T22:49:10.951646100Z"
    }
   },
   "outputs": [],
   "source": [
    "olci = cdse.load_collection(\"SENTINEL3_OLCI_L1B\",\n",
    "                            spatial_extent={\"west\": 9.7, \"south\": 53.3, \"east\": 10.3, \"north\": 53.8},\n",
    "                            temporal_extent=[\"2020-01-01\", \"2020-01-05\"],\n",
    "                            bands=[\"B08\", \"B17\"])"
   ]
  },
  {
   "cell_type": "code",
   "execution_count": 22,
   "id": "6c9e7733-34a5-47fa-8d72-db31beef8170",
   "metadata": {
    "ExecuteTime": {
     "end_time": "2023-11-17T22:49:13.429216Z",
     "start_time": "2023-11-17T22:49:13.370525Z"
    }
   },
   "outputs": [],
   "source": [
    "olci_ndvi = olci.ndvi(nir=\"B17\", red=\"B08\")\n",
    "ndvi_temp_agg = olci_ndvi.aggregate_temporal([[\"2020-01-01T00:00:00.000Z\", \"2020-01-05T00:00:00.000Z\"]], 'median')"
   ]
  },
  {
   "cell_type": "code",
   "execution_count": 23,
   "id": "f056401a-65de-48bd-9f73-1915ea47b14f",
   "metadata": {},
   "outputs": [],
   "source": [
    "with open('./hamburg_agg.json') as f:\n",
    "    geometries = json.load(f)\n",
    "ndvi_final = ndvi_temp_agg.aggregate_spatial(geometries, openeo.processes.ProcessBuilder.mean)"
   ]
  },
  {
   "cell_type": "code",
   "execution_count": 24,
   "id": "9a59c9e505b36371",
   "metadata": {
    "ExecuteTime": {
     "end_time": "2023-11-17T22:51:26.669981800Z",
     "start_time": "2023-11-17T22:49:29.997650800Z"
    },
    "collapsed": false,
    "jupyter": {
     "outputs_hidden": false
    }
   },
   "outputs": [
    {
     "name": "stdout",
     "output_type": "stream",
     "text": [
      "0:00:00 Job 'j-231117c90b73447cb7c4319c434ba1cf': send 'start'\n",
      "0:00:12 Job 'j-231117c90b73447cb7c4319c434ba1cf': created (progress N/A)\n",
      "0:00:17 Job 'j-231117c90b73447cb7c4319c434ba1cf': created (progress N/A)\n",
      "0:00:25 Job 'j-231117c90b73447cb7c4319c434ba1cf': created (progress N/A)\n",
      "0:00:33 Job 'j-231117c90b73447cb7c4319c434ba1cf': created (progress N/A)\n",
      "0:00:45 Job 'j-231117c90b73447cb7c4319c434ba1cf': running (progress N/A)\n",
      "0:00:58 Job 'j-231117c90b73447cb7c4319c434ba1cf': running (progress N/A)\n",
      "0:01:13 Job 'j-231117c90b73447cb7c4319c434ba1cf': running (progress N/A)\n",
      "0:01:33 Job 'j-231117c90b73447cb7c4319c434ba1cf': running (progress N/A)\n",
      "0:01:57 Job 'j-231117c90b73447cb7c4319c434ba1cf': finished (progress N/A)\n"
     ]
    },
    {
     "data": {
      "text/html": [
       "\n",
       "    <script>\n",
       "    if (!window.customElements || !window.customElements.get('openeo-job')) {\n",
       "        var el = document.createElement('script');\n",
       "        el.src = \"https://cdn.jsdelivr.net/npm/@openeo/vue-components@2/assets/openeo.min.js\";\n",
       "        document.head.appendChild(el);\n",
       "\n",
       "        var font = document.createElement('font');\n",
       "        font.as = \"font\";\n",
       "        font.type = \"font/woff2\";\n",
       "        font.crossOrigin = true;\n",
       "        font.href = \"https://use.fontawesome.com/releases/v5.13.0/webfonts/fa-solid-900.woff2\"\n",
       "        document.head.appendChild(font);\n",
       "    }\n",
       "    </script>\n",
       "    <openeo-job>\n",
       "        <script type=\"application/json\">{\"currency\": \"credits\", \"job\": {\"costs\": 3.0, \"created\": \"2023-11-17T23:59:31Z\", \"id\": \"j-231117c90b73447cb7c4319c434ba1cf\", \"process\": {\"process_graph\": {\"aggregatespatial1\": {\"arguments\": {\"data\": {\"from_node\": \"aggregatetemporal1\"}, \"geometries\": {\"features\": [{\"geometry\": {\"coordinates\": [[[9.786525, 53.602533], [9.989772, 53.686383], [9.998012, 53.400776], [9.892268, 53.461322], [9.873042, 53.511167], [9.743953, 53.532394], [9.786525, 53.602533]]], \"type\": \"Polygon\"}, \"properties\": {\"created_at\": \"2023-11-17 23:42:13.275755+00:00\", \"date\": \"2030-01-05 00:01:00+00:00\", \"modified_at\": null, \"population\": 700000.0}, \"type\": \"Feature\"}, {\"geometry\": {\"coordinates\": [[[9.993892, 53.690449], [10.002132, 53.399957], [10.033717, 53.46541], [10.033717, 53.48666], [10.039211, 53.51525], [10.236965, 53.450692], [10.188899, 53.496465], [10.212245, 53.511983], [10.139461, 53.538108], [10.169673, 53.572371], [10.188899, 53.66035], [10.136714, 53.703458], [10.006252, 53.686383], [9.993892, 53.690449]]], \"type\": \"Polygon\"}, \"properties\": {\"created_at\": \"2023-11-17 23:42:13.279846+00:00\", \"date\": \"2030-01-05 00:01:00+00:00\", \"modified_at\": null, \"population\": 650000.0}, \"type\": \"Feature\"}], \"type\": \"FeatureCollection\"}, \"reducer\": {\"process_graph\": {\"mean1\": {\"arguments\": {\"data\": {\"from_parameter\": \"data\"}}, \"process_id\": \"mean\", \"result\": true}}}}, \"process_id\": \"aggregate_spatial\"}, \"aggregatetemporal1\": {\"arguments\": {\"data\": {\"from_node\": \"ndvi1\"}, \"intervals\": [[\"2020-01-01T00:00:00.000Z\", \"2020-01-05T00:00:00.000Z\"]], \"reducer\": {\"process_graph\": {\"median1\": {\"arguments\": {\"data\": {\"from_parameter\": \"data\"}}, \"process_id\": \"median\", \"result\": true}}}}, \"process_id\": \"aggregate_temporal\"}, \"loadcollection1\": {\"arguments\": {\"bands\": [\"B08\", \"B17\"], \"id\": \"SENTINEL3_OLCI_L1B\", \"spatial_extent\": {\"east\": 10.3, \"north\": 53.8, \"south\": 53.3, \"west\": 9.7}, \"temporal_extent\": [\"2020-01-01\", \"2020-01-05\"]}, \"process_id\": \"load_collection\"}, \"ndvi1\": {\"arguments\": {\"data\": {\"from_node\": \"loadcollection1\"}, \"nir\": \"B17\", \"red\": \"B08\"}, \"process_id\": \"ndvi\"}, \"saveresult1\": {\"arguments\": {\"data\": {\"from_node\": \"aggregatespatial1\"}, \"format\": \"GTiff\", \"options\": {}}, \"process_id\": \"save_result\", \"result\": true}}}, \"status\": \"finished\", \"updated\": \"2023-11-17T23:59:31Z\", \"usage\": {\"cpu\": {\"unit\": \"cpu-seconds\", \"value\": 9.668979301}, \"duration\": {\"unit\": \"seconds\", \"value\": 60}, \"memory\": {\"unit\": \"mb-seconds\", \"value\": 50750.625}, \"network_received\": {\"unit\": \"b\", \"value\": 41295.0}, \"sentinelhub\": {\"unit\": \"sentinelhub_processing_unit\", \"value\": 2.6666667461395264}}}}</script>\n",
       "    </openeo-job>\n",
       "    "
      ],
      "text/plain": [
       "<BatchJob job_id='j-231117c90b73447cb7c4319c434ba1cf'>"
      ]
     },
     "execution_count": 24,
     "metadata": {},
     "output_type": "execute_result"
    }
   ],
   "source": [
    "result = ndvi_final.save_result(format = \"GTiff\")\n",
    "job = result.create_job()\n",
    "job.start_and_wait()"
   ]
  },
  {
   "cell_type": "code",
   "execution_count": 25,
   "id": "33c5921a1dc38bdc",
   "metadata": {
    "collapsed": false,
    "jupyter": {
     "outputs_hidden": false
    }
   },
   "outputs": [
    {
     "data": {
      "text/plain": [
       "[WindowsPath('output/timeseries.json'), WindowsPath('output/job-results.json')]"
      ]
     },
     "execution_count": 25,
     "metadata": {},
     "output_type": "execute_result"
    }
   ],
   "source": [
    "job.get_results().download_files(\"output\")"
   ]
  },
  {
   "cell_type": "code",
   "execution_count": 45,
   "id": "1868c72e-cfb0-458b-82bf-a6e0b57e15d9",
   "metadata": {},
   "outputs": [],
   "source": [
    "result_file = job.get_results().download_files(\"output\")[0]\n",
    "with open(str(result_file)) as f:\n",
    "    aggregated_ndvi = json.load(f)\n",
    "ndvi = list([v[0] for v in aggregated_ndvi[list(aggregated_ndvi.keys())[0]]])"
   ]
  },
  {
   "cell_type": "code",
   "execution_count": 46,
   "id": "f17b7277-2b4a-40d4-b982-f51a0b57915c",
   "metadata": {},
   "outputs": [],
   "source": [
    "import geopandas\n",
    "gdf = geopandas.read_file('./hamburg_agg.json')\n",
    "gdf['ndvi'] = ndvi"
   ]
  },
  {
   "cell_type": "code",
   "execution_count": 67,
   "id": "2316d61c-261c-41af-8de6-a5aa30367d0b",
   "metadata": {},
   "outputs": [
    {
     "data": {
      "image/png": "[encoded data removed]",
      "text/plain": [
       "<Figure size 640x480 with 1 Axes>"
      ]
     },
     "metadata": {},
     "output_type": "display_data"
    }
   ],
   "source": [
    "import matplotlib.pyplot as plt\n",
    "gdf['color'] = ['#006400', '#90EE90']\n",
    "gdf.plot(legend=True, color=gdf['color'])\n",
    "va = ['bottom', 'top']\n",
    "for idx, row in gdf.iterrows():\n",
    "    plt.annotate('population: ' + str(row['population']), xy=row['geometry'].centroid.coords[0],\n",
    "                 horizontalalignment='center', verticalalignment=va[idx])"
   ]
  },
  {
   "cell_type": "code",
   "execution_count": null,
   "id": "9e8ce5af-678f-4708-8611-2792c313ba93",
   "metadata": {
    "collapsed": false,
    "jupyter": {
     "outputs_hidden": false
    }
   },
   "outputs": [],
   "source": [
    "gc = openeo.connect('http://localhost:8080')\n",
    "vc = gc.load_collection('openeo~hamburg')"
   ]
  },
  {
   "cell_type": "code",
   "execution_count": null,
   "id": "2d78c90d60d5d056",
   "metadata": {
    "collapsed": false,
    "jupyter": {
     "outputs_hidden": false
    }
   },
   "outputs": [],
   "source": [
    "job.get_results().download_files(\"output\")"
   ]
  },
  {
   "cell_type": "code",
   "execution_count": null,
   "id": "7b7d5ced-4933-4162-9082-280afbccf210",
   "metadata": {},
   "outputs": [],
   "source": [
    "import inspect\n",
    "inspect.getfullargspec(oc.upload_file)"
   ]
  },
  {
   "cell_type": "code",
   "execution_count": null,
   "id": "0af8b6fe-dcec-496b-aab9-d020862ebb7f",
   "metadata": {},
   "outputs": [],
   "source": []
  },
  {
   "cell_type": "code",
   "execution_count": null,
   "id": "722c2791-3d48-4213-83a4-bdc38bc2df81",
   "metadata": {},
   "outputs": [],
   "source": [
    "import inspect\n",
    "inspect.getfullargspec(vc.aggregate_spatial)"
   ]
  },
  {
   "cell_type": "code",
   "execution_count": null,
   "id": "33265395-3b55-4753-b542-3b8f15ea5c13",
   "metadata": {},
   "outputs": [],
   "source": [
    "agg = olci_ndvi.aggregate_spatial(vc, 'mean')"
   ]
  },
  {
   "cell_type": "code",
   "execution_count": null,
   "id": "2cbb380a-3098-4ab1-8b9d-0cee24161f31",
   "metadata": {},
   "outputs": [],
   "source": [
    "result = agg.save_result(\"GTiff\")"
   ]
  },
  {
   "cell_type": "code",
   "execution_count": null,
   "id": "2bbe8021-d0ce-4be8-b296-3a7d16c077b5",
   "metadata": {},
   "outputs": [],
   "source": [
    "job = result.create_job()"
   ]
  },
  {
   "cell_type": "code",
   "execution_count": null,
   "id": "949aa582-fa89-4fa9-9ef8-575c6ea0d20c",
   "metadata": {},
   "outputs": [],
   "source": [
    "job.start_and_wait()"
   ]
  },
  {
   "cell_type": "code",
   "execution_count": null,
   "id": "598ffb69-4fe2-473a-92dc-b3a01a77a3ed",
   "metadata": {},
   "outputs": [],
   "source": [
    "job.get_results().download_files(\"output\")"
   ]
  },
  {
   "cell_type": "code",
   "execution_count": null,
   "id": "83b7f7f3-04dd-4440-9c09-5b131eda8c26",
   "metadata": {},
   "outputs": [],
   "source": [
    "result = olci_ndvi.save_result(\"GTiff\")"
   ]
  },
  {
   "cell_type": "code",
   "execution_count": null,
   "id": "a353b83f-6e46-4688-8aac-d18b919b28be",
   "metadata": {},
   "outputs": [],
   "source": [
    "job = result.create_job()"
   ]
  },
  {
   "cell_type": "code",
   "execution_count": null,
   "id": "bf5a5cdc-d377-44e0-ba35-fc6b9c2dd05c",
   "metadata": {},
   "outputs": [],
   "source": [
    "job.start_and_wait()"
   ]
  },
  {
   "cell_type": "code",
   "execution_count": null,
   "id": "986c2580-65ea-44b8-b173-d4c77bb71d5d",
   "metadata": {},
   "outputs": [],
   "source": [
    "job.get_results().download_files(\"output\")"
   ]
  },
  {
   "cell_type": "code",
   "execution_count": null,
   "id": "118477d6-32aa-46a1-8e4f-b863b94642b6",
   "metadata": {},
   "outputs": [],
   "source": []
  }
 ],
 "metadata": {
  "kernelspec": {
   "display_name": "Python 3 (ipykernel)",
   "language": "python",
   "name": "python3"
  },
  "language_info": {
   "codemirror_mode": {
    "name": "ipython",
    "version": 3
   },
   "file_extension": ".py",
   "mimetype": "text/x-python",
   "name": "python",
   "nbconvert_exporter": "python",
   "pygments_lexer": "ipython3",
   "version": "3.9.16"
  }
 },
 "nbformat": 4,
 "nbformat_minor": 5
}
